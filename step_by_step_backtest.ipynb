{
 "cells": [
  {
   "cell_type": "markdown",
   "id": "de8119b8",
   "metadata": {},
   "source": [
    "# Stock NeurIPS2018 Part 3. Backtest - Schritt für Schritt\n",
    "\n",
    "Wir folgen genau dem NeurIPS2018 Beispiel, aber verwenden Ihre trainierten Modelle und Daten."
   ]
  },
  {
   "cell_type": "markdown",
   "id": "4c8b7540",
   "metadata": {},
   "source": [
    "## Schritt 1: Notwendige Pakete installieren"
   ]
  },
  {
   "cell_type": "code",
   "execution_count": 10,
   "id": "b8d4a8cf",
   "metadata": {},
   "outputs": [],
   "source": [
    "import pandas as pd\n",
    "import numpy as np\n",
    "import matplotlib.pyplot as plt\n",
    "from finrl.meta.preprocessor.yahoodownloader import YahooDownloader\n",
    "from finrl.meta.env_stock_trading.env_stocktrading import StockTradingEnv\n",
    "from finrl.agents.stablebaselines3.models import DRLAgent\n",
    "from finrl.config import INDICATORS\n",
    "from stable_baselines3 import PPO\n",
    "\n",
    "%matplotlib inline\n",
    "plt.style.use('default')"
   ]
  },
  {
   "cell_type": "markdown",
   "id": "11db4a5c",
   "metadata": {},
   "source": [
    "## Schritt 2: Daten laden\n",
    "\n",
    "Wir laden Ihre vorbereiteten Trainingsdaten und Handelsdaten."
   ]
  },
  {
   "cell_type": "code",
   "execution_count": null,
   "id": "147a4670",
   "metadata": {},
   "outputs": [
    {
     "ename": "NameError",
     "evalue": "name 'pd' is not defined",
     "output_type": "error",
     "traceback": [
      "\u001b[31m---------------------------------------------------------------------------\u001b[39m",
      "\u001b[31mNameError\u001b[39m                                 Traceback (most recent call last)",
      "\u001b[36mCell\u001b[39m\u001b[36m \u001b[39m\u001b[32mIn[1]\u001b[39m\u001b[32m, line 2\u001b[39m\n\u001b[32m      1\u001b[39m \u001b[38;5;66;03m# Schritt 1: Daten laden\u001b[39;00m\n\u001b[32m----> \u001b[39m\u001b[32m2\u001b[39m train = \u001b[43mpd\u001b[49m.read_csv(\u001b[33m'\u001b[39m\u001b[33mtrain.csv\u001b[39m\u001b[33m'\u001b[39m)\n\u001b[32m      3\u001b[39m trade = pd.read_csv(\u001b[33m'\u001b[39m\u001b[33mtrade.csv\u001b[39m\u001b[33m'\u001b[39m)\n\u001b[32m      5\u001b[39m \u001b[38;5;66;03m# Konvertiere Datum zu datetime und setze als Index\u001b[39;00m\n",
      "\u001b[31mNameError\u001b[39m: name 'pd' is not defined"
     ]
    }
   ],
   "source": [
    "## Schritt 1: Daten laden und vorbereiten\n",
    "# Daten laden\n",
    "train = pd.read_csv('train.csv')\n",
    "trade = pd.read_csv('trade.csv')\n",
    "\n",
    "# Datum konvertieren\n",
    "trade['date'] = pd.to_datetime(trade['date'])\n",
    "trade = trade.sort_values(['date', 'tic']).reset_index(drop=True)\n",
    "\n",
    "# Technische Indikatoren identifizieren\n",
    "INDICATORS = ['macd', 'rsi_30', 'cci_30', 'dx_30']  # Passe diese Liste an deine Daten an\n",
    "\n",
    "# Dimensionen berechnen\n",
    "stock_dimension = len(trade['tic'].unique())\n",
    "state_space = 1 + 2*stock_dimension + len(INDICATORS)*stock_dimension\n",
    "\n",
    "print(f\"Aktien: {trade['tic'].unique()}\")\n",
    "print(f\"Aktien Dimension: {stock_dimension}\")\n",
    "print(f\"Zustandsraum: {state_space}\")\n",
    "print(f\"Verfügbare Spalten: {trade.columns.tolist()}\")\n",
    "\n",
    "## Schritt 2: Daten für numpy-basierte Umgebung vorbereiten\n",
    "# Pivot-Tabellen für jeden benötigten Wert erstellen\n",
    "unique_dates = trade['date'].unique()\n",
    "unique_stocks = trade['tic'].unique()\n",
    "\n",
    "# Arrays vorbereiten\n",
    "price_array = np.zeros((len(unique_dates), stock_dimension))\n",
    "tech_arrays = {ind: np.zeros((len(unique_dates), stock_dimension)) for ind in INDICATORS}\n",
    "\n",
    "# Daten in Arrays füllen\n",
    "for i, date in enumerate(unique_dates):\n",
    "    date_data = trade[trade['date'] == date]\n",
    "    for j, tic in enumerate(unique_stocks):\n",
    "        stock_data = date_data[date_data['tic'] == tic]\n",
    "        if not stock_data.empty:\n",
    "            price_array[i, j] = stock_data['close'].values[0]\n",
    "            for ind in INDICATORS:\n",
    "                if ind in stock_data.columns:\n",
    "                    tech_arrays[ind][i, j] = stock_data[ind].values[0]\n",
    "\n",
    "# Tech array kombinieren\n",
    "tech_array = np.column_stack([tech_arrays[ind] for ind in INDICATORS])\n",
    "\n",
    "# Turbulenz array\n",
    "turbulence_array = trade.groupby('date')['turbulence'].first().values\n",
    "\n",
    "## Schritt 3: Handelsumgebung erstellen\n",
    "env_config = {\n",
    "    \"price_array\": price_array,\n",
    "    \"tech_array\": tech_array,\n",
    "    \"turbulence_array\": turbulence_array,\n",
    "    \"if_train\": False,  # Für Backtesting\n",
    "    \"initial_amount\": 1000000,\n",
    "    \"buy_cost_pct\": 0.001,\n",
    "    \"sell_cost_pct\": 0.001,\n",
    "    \"state_space\": state_space,\n",
    "    \"stock_dim\": stock_dimension,\n",
    "    \"tech_indicator_list\": INDICATORS,\n",
    "    \"action_space\": stock_dimension,\n",
    "    \"reward_scaling\": 1e-4\n",
    "}\n",
    "\n",
    "env_trade = StockTradingEnv(config=env_config)\n"
   ]
  },
  {
   "cell_type": "markdown",
   "id": "88b240b5",
   "metadata": {},
   "source": [
    "## Schritt 3: Trainiertes Modell laden\n",
    "\n",
    "Wir laden das PPO-Modell, das Sie bereits trainiert haben."
   ]
  },
  {
   "cell_type": "code",
   "execution_count": 5,
   "id": "198ecc68",
   "metadata": {},
   "outputs": [
    {
     "name": "stdout",
     "output_type": "stream",
     "text": [
      "PPO Modell erfolgreich geladen\n"
     ]
    },
    {
     "name": "stderr",
     "output_type": "stream",
     "text": [
      "/home/group3/venv/lib/python3.12/site-packages/stable_baselines3/common/on_policy_algorithm.py:150: UserWarning: You are trying to run PPO on the GPU, but it is primarily intended to run on the CPU when not using a CNN policy (you are using ActorCriticPolicy which should be a MlpPolicy). See https://github.com/DLR-RM/stable-baselines3/issues/1245 for more info. You can pass `device='cpu'` or `export CUDA_VISIBLE_DEVICES=` to force using the CPU.Note: The model will train, but the GPU utilization will be poor and the training might take longer than on CPU.\n",
      "  warnings.warn(\n"
     ]
    }
   ],
   "source": [
    "# Laden des trainierten PPO Modells\n",
    "try:\n",
    "    trained_model = PPO.load(\"trained_ppo_model\")\n",
    "    print(\"PPO Modell erfolgreich geladen\")\n",
    "except Exception as e:\n",
    "    print(f\"Fehler beim Laden des Modells: {e}\")"
   ]
  },
  {
   "cell_type": "markdown",
   "id": "4614b7e6",
   "metadata": {},
   "source": [
    "## Schritt 4: Handelsumgebung vorbereiten\n",
    "\n",
    "Wir erstellen die Handelsumgebung mit den gleichen Parametern wie im Training."
   ]
  },
  {
   "cell_type": "markdown",
   "id": "6f75a1ef",
   "metadata": {},
   "source": [
    "## Schritt 5: Modell-Vorhersagen durchführen\n",
    "\n",
    "Jetzt lassen wir das Modell auf den Testdaten handeln."
   ]
  },
  {
   "cell_type": "code",
   "execution_count": 6,
   "id": "ae7ee3ea",
   "metadata": {},
   "outputs": [
    {
     "ename": "NameError",
     "evalue": "name 'env_trade' is not defined",
     "output_type": "error",
     "traceback": [
      "\u001b[31m---------------------------------------------------------------------------\u001b[39m",
      "\u001b[31mNameError\u001b[39m                                 Traceback (most recent call last)",
      "\u001b[36mCell\u001b[39m\u001b[36m \u001b[39m\u001b[32mIn[6]\u001b[39m\u001b[32m, line 4\u001b[39m\n\u001b[32m      1\u001b[39m \u001b[38;5;66;03m# Vorhersagen mit dem Modell machen\u001b[39;00m\n\u001b[32m      2\u001b[39m df_account_value, df_actions = DRLAgent.DRL_prediction(\n\u001b[32m      3\u001b[39m     model=trained_model,\n\u001b[32m----> \u001b[39m\u001b[32m4\u001b[39m     environment=\u001b[43menv_trade\u001b[49m\n\u001b[32m      5\u001b[39m )\n\u001b[32m      7\u001b[39m \u001b[38;5;28mprint\u001b[39m(\u001b[33m\"\u001b[39m\u001b[38;5;130;01m\\n\u001b[39;00m\u001b[33mBacktesting Ergebnisse:\u001b[39m\u001b[33m\"\u001b[39m)\n\u001b[32m      8\u001b[39m initial_value = df_account_value[\u001b[33m'\u001b[39m\u001b[33maccount_value\u001b[39m\u001b[33m'\u001b[39m][\u001b[32m0\u001b[39m]\n",
      "\u001b[31mNameError\u001b[39m: name 'env_trade' is not defined"
     ]
    }
   ],
   "source": [
    "# Vorhersagen mit dem Modell machen\n",
    "df_account_value, df_actions = DRLAgent.DRL_prediction(\n",
    "    model=trained_model,\n",
    "    environment=env_trade\n",
    ")\n",
    "\n",
    "print(\"\\nBacktesting Ergebnisse:\")\n",
    "initial_value = df_account_value['account_value'][0]\n",
    "final_value = df_account_value['account_value'].iloc[-1]\n",
    "total_return = (final_value - initial_value) / initial_value * 100\n",
    "\n",
    "print(f\"Anfänglicher Portfolio-Wert: ${initial_value:,.2f}\")\n",
    "print(f\"Finaler Portfolio-Wert: ${final_value:,.2f}\")\n",
    "print(f\"Gesamtrendite: {total_return:.2f}%\")"
   ]
  },
  {
   "cell_type": "markdown",
   "id": "98059bd6",
   "metadata": {},
   "source": [
    "## Schritt 6: Dow Jones Industrial Average (DJIA) als Benchmark hinzufügen"
   ]
  },
  {
   "cell_type": "code",
   "execution_count": null,
   "id": "55af3d15",
   "metadata": {},
   "outputs": [],
   "source": [
    "# DJIA Daten herunterladen mit korrektem Datumsformat\n",
    "start_date = trade.index[0].strftime('%Y-%m-%d')\n",
    "end_date = trade.index[-1].strftime('%Y-%m-%d')\n",
    "\n",
    "df_dji = YahooDownloader(\n",
    "    start_date=start_date,\n",
    "    end_date=end_date,\n",
    "    ticker_list=['^DJI']\n",
    ").fetch_data()\n",
    "\n",
    "# DJIA Daten verarbeiten\n",
    "df_dji = df_dji[['date', 'close']]\n",
    "df_dji['date'] = pd.to_datetime(df_dji['date'])\n",
    "df_dji = df_dji.set_index('date')\n",
    "df_dji = df_dji.sort_index()\n",
    "\n",
    "# Sicherstellen, dass wir nur die überlappenden Daten verwenden\n",
    "common_dates = df_dji.index.intersection(trade.index)\n",
    "df_dji = df_dji.loc[common_dates]\n",
    "\n",
    "# Berechnung des Portfolio-Werts basierend auf initialem Investment\n",
    "initial_dji = df_dji['close'].iloc[0]\n",
    "df_dji['value'] = df_dji['close'].div(initial_dji).mul(1000000)  # Skalierung auf gleiches Startkapital"
   ]
  },
  {
   "cell_type": "markdown",
   "id": "0481f72f",
   "metadata": {},
   "source": []
  },
  {
   "cell_type": "markdown",
   "id": "8a88a6bf",
   "metadata": {},
   "source": [
    "## Schritt 7: Ergebnisse visualisieren"
   ]
  },
  {
   "cell_type": "code",
   "execution_count": null,
   "id": "be254497",
   "metadata": {},
   "outputs": [],
   "source": [
    "# Ergebnisse zusammenführen und sicherstellen, dass die Indizes übereinstimmen\n",
    "df_result = pd.DataFrame({\n",
    "    'AI Agent': df_account_value.set_index('date')['account_value'],\n",
    "    'DJIA': df_dji['value']\n",
    "})\n",
    "\n",
    "# Fehlende Werte entfernen\n",
    "df_result = df_result.dropna()\n",
    "\n",
    "# Plot erstellen\n",
    "plt.figure(figsize=(15, 7))\n",
    "df_result.plot()\n",
    "plt.title('Portfolio Wert Vergleich: AI Agent vs. DJIA')\n",
    "plt.xlabel('Datum')\n",
    "plt.ylabel('Portfolio Wert ($)')\n",
    "plt.grid(True)\n",
    "plt.legend()\n",
    "plt.xticks(rotation=45)\n",
    "plt.tight_layout()\n",
    "plt.show()\n",
    "\n",
    "# Renditen berechnen und anzeigen\n",
    "print(\"\\nGesamtrenditen:\")\n",
    "for column in df_result.columns:\n",
    "    total_return = (df_result[column].iloc[-1] - df_result[column].iloc[0]) / df_result[column].iloc[0] * 100\n",
    "    print(f\"{column}: {total_return:.2f}%\")"
   ]
  },
  {
   "cell_type": "markdown",
   "id": "b212961f",
   "metadata": {},
   "source": [
    "## Schritt 8: Handelsaktionen analysieren"
   ]
  },
  {
   "cell_type": "code",
   "execution_count": null,
   "id": "e4b90773",
   "metadata": {},
   "outputs": [],
   "source": [
    "# Handelsaktionen analysieren\n",
    "print(\"\\nDurchschnittliche Positionsgrößen:\")\n",
    "print(df_actions.mean())\n",
    "\n",
    "# Positionsänderungen über Zeit visualisieren\n",
    "plt.figure(figsize=(15, 7))\n",
    "df_actions.iloc[:, :5].plot()  # Zeige erste 5 Aktien als Beispiel\n",
    "plt.title('Positionsänderungen über Zeit (Erste 5 Aktien)')\n",
    "plt.xlabel('Datum')\n",
    "plt.ylabel('Positionsgröße')\n",
    "plt.grid(True)\n",
    "plt.legend()\n",
    "plt.xticks(rotation=45)\n",
    "plt.tight_layout()\n",
    "plt.show()"
   ]
  },
  {
   "cell_type": "code",
   "execution_count": null,
   "id": "e97c0017",
   "metadata": {},
   "outputs": [],
   "source": []
  }
 ],
 "metadata": {
  "kernelspec": {
   "display_name": "venv",
   "language": "python",
   "name": "python3"
  },
  "language_info": {
   "codemirror_mode": {
    "name": "ipython",
    "version": 3
   },
   "file_extension": ".py",
   "mimetype": "text/x-python",
   "name": "python",
   "nbconvert_exporter": "python",
   "pygments_lexer": "ipython3",
   "version": "3.12.3"
  }
 },
 "nbformat": 4,
 "nbformat_minor": 5
}
